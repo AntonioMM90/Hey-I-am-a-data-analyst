{
 "cells": [
  {
   "cell_type": "markdown",
   "metadata": {},
   "source": [
    "# Airplane Crashes Analysis"
   ]
  },
  {
   "cell_type": "markdown",
   "metadata": {},
   "source": [
    "## 1 Importing necesary libraries"
   ]
  },
  {
   "cell_type": "code",
   "execution_count": 1,
   "metadata": {},
   "outputs": [],
   "source": [
    "import pandas as pd\n",
    "import requests\n",
    "from bs4 import BeautifulSoup\n",
    "import matplotlib.pyplot as plt\n",
    "import numpy as np\n",
    "import re\n",
    "import matplotlib.pyplot as plt\n",
    "import seaborn as sns"
   ]
  },
  {
   "cell_type": "markdown",
   "metadata": {},
   "source": [
    "## 2 Database & Cleaning"
   ]
  },
  {
   "cell_type": "code",
   "execution_count": 2,
   "metadata": {
    "scrolled": true
   },
   "outputs": [
    {
     "data": {
      "text/html": [
       "<div>\n",
       "<style scoped>\n",
       "    .dataframe tbody tr th:only-of-type {\n",
       "        vertical-align: middle;\n",
       "    }\n",
       "\n",
       "    .dataframe tbody tr th {\n",
       "        vertical-align: top;\n",
       "    }\n",
       "\n",
       "    .dataframe thead th {\n",
       "        text-align: right;\n",
       "    }\n",
       "</style>\n",
       "<table border=\"1\" class=\"dataframe\">\n",
       "  <thead>\n",
       "    <tr style=\"text-align: right;\">\n",
       "      <th></th>\n",
       "      <th>Date</th>\n",
       "      <th>Time</th>\n",
       "      <th>Location</th>\n",
       "      <th>Operator</th>\n",
       "      <th>Flight #</th>\n",
       "      <th>Route</th>\n",
       "      <th>AC Type</th>\n",
       "      <th>Registration</th>\n",
       "      <th>cn/ln</th>\n",
       "      <th>Aboard</th>\n",
       "      <th>Aboard Passangers</th>\n",
       "      <th>Aboard Crew</th>\n",
       "      <th>Fatalities</th>\n",
       "      <th>Fatalities Passangers</th>\n",
       "      <th>Fatalities Crew</th>\n",
       "      <th>Ground</th>\n",
       "      <th>Summary</th>\n",
       "    </tr>\n",
       "  </thead>\n",
       "  <tbody>\n",
       "    <tr>\n",
       "      <th>0</th>\n",
       "      <td>09/17/1908</td>\n",
       "      <td>17:18</td>\n",
       "      <td>Fort Myer, Virginia</td>\n",
       "      <td>Military - U.S. Army</td>\n",
       "      <td>NaN</td>\n",
       "      <td>Demonstration</td>\n",
       "      <td>Wright Flyer III</td>\n",
       "      <td>NaN</td>\n",
       "      <td>1</td>\n",
       "      <td>2.0</td>\n",
       "      <td>1.0</td>\n",
       "      <td>1.0</td>\n",
       "      <td>1.0</td>\n",
       "      <td>1.0</td>\n",
       "      <td>0.0</td>\n",
       "      <td>0.0</td>\n",
       "      <td>During a demonstration flight, a U.S. Army fly...</td>\n",
       "    </tr>\n",
       "    <tr>\n",
       "      <th>1</th>\n",
       "      <td>09/07/1909</td>\n",
       "      <td>NaN</td>\n",
       "      <td>Juvisy-sur-Orge, France</td>\n",
       "      <td>NaN</td>\n",
       "      <td>NaN</td>\n",
       "      <td>Air show</td>\n",
       "      <td>Wright Byplane</td>\n",
       "      <td>SC1</td>\n",
       "      <td>NaN</td>\n",
       "      <td>1.0</td>\n",
       "      <td>0.0</td>\n",
       "      <td>1.0</td>\n",
       "      <td>1.0</td>\n",
       "      <td>0.0</td>\n",
       "      <td>0.0</td>\n",
       "      <td>0.0</td>\n",
       "      <td>Eugene Lefebvre was the first pilot to ever be...</td>\n",
       "    </tr>\n",
       "    <tr>\n",
       "      <th>2</th>\n",
       "      <td>07/12/1912</td>\n",
       "      <td>06:30</td>\n",
       "      <td>Atlantic City, New Jersey</td>\n",
       "      <td>Military - U.S. Navy</td>\n",
       "      <td>NaN</td>\n",
       "      <td>Test flight</td>\n",
       "      <td>Dirigible</td>\n",
       "      <td>NaN</td>\n",
       "      <td>NaN</td>\n",
       "      <td>5.0</td>\n",
       "      <td>0.0</td>\n",
       "      <td>5.0</td>\n",
       "      <td>5.0</td>\n",
       "      <td>0.0</td>\n",
       "      <td>5.0</td>\n",
       "      <td>0.0</td>\n",
       "      <td>First U.S. dirigible Akron exploded just offsh...</td>\n",
       "    </tr>\n",
       "    <tr>\n",
       "      <th>3</th>\n",
       "      <td>08/06/1913</td>\n",
       "      <td>NaN</td>\n",
       "      <td>Victoria, British Columbia, Canada</td>\n",
       "      <td>Private</td>\n",
       "      <td>NaN</td>\n",
       "      <td>NaN</td>\n",
       "      <td>Curtiss seaplane</td>\n",
       "      <td>NaN</td>\n",
       "      <td>NaN</td>\n",
       "      <td>1.0</td>\n",
       "      <td>0.0</td>\n",
       "      <td>1.0</td>\n",
       "      <td>1.0</td>\n",
       "      <td>0.0</td>\n",
       "      <td>1.0</td>\n",
       "      <td>0.0</td>\n",
       "      <td>The first fatal airplane accident in Canada oc...</td>\n",
       "    </tr>\n",
       "    <tr>\n",
       "      <th>4</th>\n",
       "      <td>09/09/1913</td>\n",
       "      <td>18:30</td>\n",
       "      <td>Over the North Sea</td>\n",
       "      <td>Military - German Navy</td>\n",
       "      <td>NaN</td>\n",
       "      <td>NaN</td>\n",
       "      <td>Zeppelin L-1 (airship)</td>\n",
       "      <td>NaN</td>\n",
       "      <td>NaN</td>\n",
       "      <td>20.0</td>\n",
       "      <td>NaN</td>\n",
       "      <td>NaN</td>\n",
       "      <td>14.0</td>\n",
       "      <td>NaN</td>\n",
       "      <td>NaN</td>\n",
       "      <td>0.0</td>\n",
       "      <td>The airship flew into a thunderstorm and encou...</td>\n",
       "    </tr>\n",
       "  </tbody>\n",
       "</table>\n",
       "</div>"
      ],
      "text/plain": [
       "         Date   Time                            Location  \\\n",
       "0  09/17/1908  17:18                 Fort Myer, Virginia   \n",
       "1  09/07/1909    NaN             Juvisy-sur-Orge, France   \n",
       "2  07/12/1912  06:30           Atlantic City, New Jersey   \n",
       "3  08/06/1913    NaN  Victoria, British Columbia, Canada   \n",
       "4  09/09/1913  18:30                  Over the North Sea   \n",
       "\n",
       "                 Operator Flight #          Route                 AC Type  \\\n",
       "0    Military - U.S. Army      NaN  Demonstration        Wright Flyer III   \n",
       "1                     NaN      NaN       Air show          Wright Byplane   \n",
       "2    Military - U.S. Navy      NaN    Test flight               Dirigible   \n",
       "3                 Private      NaN            NaN        Curtiss seaplane   \n",
       "4  Military - German Navy      NaN            NaN  Zeppelin L-1 (airship)   \n",
       "\n",
       "  Registration cn/ln  Aboard  Aboard Passangers  Aboard Crew  Fatalities  \\\n",
       "0          NaN     1     2.0                1.0          1.0         1.0   \n",
       "1          SC1   NaN     1.0                0.0          1.0         1.0   \n",
       "2          NaN   NaN     5.0                0.0          5.0         5.0   \n",
       "3          NaN   NaN     1.0                0.0          1.0         1.0   \n",
       "4          NaN   NaN    20.0                NaN          NaN        14.0   \n",
       "\n",
       "   Fatalities Passangers  Fatalities Crew  Ground  \\\n",
       "0                    1.0              0.0     0.0   \n",
       "1                    0.0              0.0     0.0   \n",
       "2                    0.0              5.0     0.0   \n",
       "3                    0.0              1.0     0.0   \n",
       "4                    NaN              NaN     0.0   \n",
       "\n",
       "                                             Summary  \n",
       "0  During a demonstration flight, a U.S. Army fly...  \n",
       "1  Eugene Lefebvre was the first pilot to ever be...  \n",
       "2  First U.S. dirigible Akron exploded just offsh...  \n",
       "3  The first fatal airplane accident in Canada oc...  \n",
       "4  The airship flew into a thunderstorm and encou...  "
      ]
     },
     "execution_count": 2,
     "metadata": {},
     "output_type": "execute_result"
    }
   ],
   "source": [
    "df = pd.read_csv(\"./data/Airplane_Crashes_and_Fatalities_Since_1908_20190820105639.csv\")\n",
    "df.head()"
   ]
  },
  {
   "cell_type": "code",
   "execution_count": 3,
   "metadata": {
    "scrolled": true
   },
   "outputs": [
    {
     "name": "stdout",
     "output_type": "stream",
     "text": [
      "<class 'pandas.core.frame.DataFrame'>\n",
      "RangeIndex: 4967 entries, 0 to 4966\n",
      "Data columns (total 17 columns):\n",
      " #   Column                 Non-Null Count  Dtype  \n",
      "---  ------                 --------------  -----  \n",
      " 0   Date                   4967 non-null   object \n",
      " 1   Time                   3457 non-null   object \n",
      " 2   Location               4963 non-null   object \n",
      " 3   Operator               4957 non-null   object \n",
      " 4   Flight #               1315 non-null   object \n",
      " 5   Route                  4193 non-null   object \n",
      " 6   AC Type                4952 non-null   object \n",
      " 7   Registration           4694 non-null   object \n",
      " 8   cn/ln                  4299 non-null   object \n",
      " 9   Aboard                 4949 non-null   float64\n",
      " 10  Aboard Passangers      4738 non-null   float64\n",
      " 11  Aboard Crew            4741 non-null   float64\n",
      " 12  Fatalities             4959 non-null   float64\n",
      " 13  Fatalities Passangers  4725 non-null   float64\n",
      " 14  Fatalities Crew        4726 non-null   float64\n",
      " 15  Ground                 4926 non-null   float64\n",
      " 16  Summary                4903 non-null   object \n",
      "dtypes: float64(7), object(10)\n",
      "memory usage: 659.8+ KB\n"
     ]
    }
   ],
   "source": [
    "df.info()"
   ]
  },
  {
   "cell_type": "code",
   "execution_count": 4,
   "metadata": {},
   "outputs": [],
   "source": [
    "df['Date'] = pd.to_datetime(df['Date'])"
   ]
  },
  {
   "cell_type": "code",
   "execution_count": 5,
   "metadata": {},
   "outputs": [],
   "source": [
    "# Eliminating spaces from column names, for an easier coding\n",
    "df.columns = df.columns.str.replace(' ','_')"
   ]
  },
  {
   "cell_type": "code",
   "execution_count": 6,
   "metadata": {},
   "outputs": [
    {
     "data": {
      "text/plain": [
       "Date                        0\n",
       "Time                     1510\n",
       "Location                    4\n",
       "Operator                   10\n",
       "Flight_#                 3652\n",
       "Route                     774\n",
       "AC_Type                    15\n",
       "Registration              273\n",
       "cn/ln                     668\n",
       "Aboard                     18\n",
       "Aboard_Passangers         229\n",
       "Aboard_Crew               226\n",
       "Fatalities                  8\n",
       "Fatalities_Passangers     242\n",
       "Fatalities_Crew           241\n",
       "Ground                     41\n",
       "Summary                    64\n",
       "dtype: int64"
      ]
     },
     "execution_count": 6,
     "metadata": {},
     "output_type": "execute_result"
    }
   ],
   "source": [
    "df.isnull().sum()"
   ]
  },
  {
   "cell_type": "code",
   "execution_count": 7,
   "metadata": {},
   "outputs": [],
   "source": [
    "# We eliminate the column of Flght number since it has too many nul numbers\n",
    "df.drop(labels = ['Flight_#'], inplace=True, axis=1)"
   ]
  },
  {
   "cell_type": "markdown",
   "metadata": {},
   "source": [
    "### Web scrapping most made model of planes made"
   ]
  },
  {
   "cell_type": "code",
   "execution_count": 8,
   "metadata": {},
   "outputs": [],
   "source": [
    "url = \"https://en.wikipedia.org/wiki/List_of_most-produced_aircraft\"\n",
    "html = requests.get(url)\n",
    "soup = BeautifulSoup(html.content,\"html.parser\")"
   ]
  },
  {
   "cell_type": "code",
   "execution_count": 64,
   "metadata": {
    "scrolled": true
   },
   "outputs": [
    {
     "ename": "TypeError",
     "evalue": "'NoneType' object is not callable",
     "output_type": "error",
     "traceback": [
      "\u001b[0;31m---------------------------------------------------------------------------\u001b[0m",
      "\u001b[0;31mTypeError\u001b[0m                                 Traceback (most recent call last)",
      "\u001b[0;32m<ipython-input-64-3b5fde4f9d2a>\u001b[0m in \u001b[0;36m<module>\u001b[0;34m\u001b[0m\n\u001b[1;32m      1\u001b[0m \u001b[0mtable\u001b[0m \u001b[0;34m=\u001b[0m \u001b[0msoup\u001b[0m\u001b[0;34m.\u001b[0m\u001b[0mfind_all\u001b[0m\u001b[0;34m(\u001b[0m\u001b[0;34m\"tbody\"\u001b[0m\u001b[0;34m)\u001b[0m\u001b[0;34m\u001b[0m\u001b[0;34m\u001b[0m\u001b[0m\n\u001b[1;32m      2\u001b[0m \u001b[0mtable\u001b[0m \u001b[0;34m=\u001b[0m \u001b[0mtable\u001b[0m\u001b[0;34m[\u001b[0m\u001b[0;36m1\u001b[0m\u001b[0;34m]\u001b[0m\u001b[0;34m\u001b[0m\u001b[0;34m\u001b[0m\u001b[0m\n\u001b[0;32m----> 3\u001b[0;31m \u001b[0mtable\u001b[0m\u001b[0;34m.\u001b[0m\u001b[0mhead\u001b[0m\u001b[0;34m(\u001b[0m\u001b[0;34m)\u001b[0m\u001b[0;34m\u001b[0m\u001b[0;34m\u001b[0m\u001b[0m\n\u001b[0m",
      "\u001b[0;31mTypeError\u001b[0m: 'NoneType' object is not callable"
     ]
    }
   ],
   "source": [
    "table = soup.find_all(\"tbody\")\n",
    "table = table[1]\n",
    "table.head()"
   ]
  },
  {
   "cell_type": "code",
   "execution_count": 10,
   "metadata": {},
   "outputs": [],
   "source": [
    "planes_produced = []\n",
    "for i in range(115):\n",
    "    if i != 0:\n",
    "        i = i+(i*7)\n",
    "    fabricados = { \"AC_Type\" : table.find_all(\"td\")[i].text.strip(),\n",
    "                  \"Civilian/Militar\": table.find_all(\"td\")[i+1].text.strip(),\n",
    "                  \"Role\": table.find_all(\"td\")[i+2].text.strip(),\n",
    "                  \"Number_produced\": table.find_all(\"td\")[i+3].text.strip(),\n",
    "                  \"Country\": table.find_all(\"td\")[i+4].text.strip(),\n",
    "                 }\n",
    "\n",
    "    planes_produced.append(fabricados)"
   ]
  },
  {
   "cell_type": "code",
   "execution_count": 11,
   "metadata": {},
   "outputs": [
    {
     "data": {
      "text/html": [
       "<div>\n",
       "<style scoped>\n",
       "    .dataframe tbody tr th:only-of-type {\n",
       "        vertical-align: middle;\n",
       "    }\n",
       "\n",
       "    .dataframe tbody tr th {\n",
       "        vertical-align: top;\n",
       "    }\n",
       "\n",
       "    .dataframe thead th {\n",
       "        text-align: right;\n",
       "    }\n",
       "</style>\n",
       "<table border=\"1\" class=\"dataframe\">\n",
       "  <thead>\n",
       "    <tr style=\"text-align: right;\">\n",
       "      <th></th>\n",
       "      <th>AC_Type</th>\n",
       "      <th>Civilian/Militar</th>\n",
       "      <th>Role</th>\n",
       "      <th>Number_produced</th>\n",
       "      <th>Country</th>\n",
       "    </tr>\n",
       "  </thead>\n",
       "  <tbody>\n",
       "    <tr>\n",
       "      <th>0</th>\n",
       "      <td>Cessna 172</td>\n",
       "      <td>C</td>\n",
       "      <td>Utility / trainer</td>\n",
       "      <td>44,000+[1]</td>\n",
       "      <td>United States</td>\n",
       "    </tr>\n",
       "    <tr>\n",
       "      <th>1</th>\n",
       "      <td>Ilyushin Il-2</td>\n",
       "      <td>M</td>\n",
       "      <td>Ground-attack</td>\n",
       "      <td>36,183</td>\n",
       "      <td>Soviet Union</td>\n",
       "    </tr>\n",
       "    <tr>\n",
       "      <th>2</th>\n",
       "      <td>Messerschmitt Bf 109</td>\n",
       "      <td>M</td>\n",
       "      <td>Fighter</td>\n",
       "      <td>34,852</td>\n",
       "      <td>Germany</td>\n",
       "    </tr>\n",
       "    <tr>\n",
       "      <th>3</th>\n",
       "      <td>Piper PA-28 series</td>\n",
       "      <td>C</td>\n",
       "      <td>Utility / trainer</td>\n",
       "      <td>32,778+</td>\n",
       "      <td>United States</td>\n",
       "    </tr>\n",
       "    <tr>\n",
       "      <th>4</th>\n",
       "      <td>Cessna 150 / 152</td>\n",
       "      <td>C</td>\n",
       "      <td>Utility / trainer</td>\n",
       "      <td>31,471[2]</td>\n",
       "      <td>United States</td>\n",
       "    </tr>\n",
       "  </tbody>\n",
       "</table>\n",
       "</div>"
      ],
      "text/plain": [
       "                AC_Type Civilian/Militar               Role Number_produced  \\\n",
       "0            Cessna 172                C  Utility / trainer      44,000+[1]   \n",
       "1         Ilyushin Il-2                M      Ground-attack          36,183   \n",
       "2  Messerschmitt Bf 109                M            Fighter          34,852   \n",
       "3    Piper PA-28 series                C  Utility / trainer         32,778+   \n",
       "4      Cessna 150 / 152                C  Utility / trainer       31,471[2]   \n",
       "\n",
       "         Country  \n",
       "0  United States  \n",
       "1   Soviet Union  \n",
       "2        Germany  \n",
       "3  United States  \n",
       "4  United States  "
      ]
     },
     "execution_count": 11,
     "metadata": {},
     "output_type": "execute_result"
    }
   ],
   "source": [
    "planes_p = pd.DataFrame(planes_produced)\n",
    "planes_p.head()"
   ]
  },
  {
   "cell_type": "code",
   "execution_count": 12,
   "metadata": {},
   "outputs": [
    {
     "data": {
      "text/plain": [
       "115"
      ]
     },
     "execution_count": 12,
     "metadata": {},
     "output_type": "execute_result"
    }
   ],
   "source": [
    "len(planes_p.AC_Type.unique())"
   ]
  },
  {
   "cell_type": "code",
   "execution_count": 13,
   "metadata": {},
   "outputs": [
    {
     "data": {
      "text/plain": [
       "2448"
      ]
     },
     "execution_count": 13,
     "metadata": {},
     "output_type": "execute_result"
    }
   ],
   "source": [
    "len(df.AC_Type.unique())"
   ]
  },
  {
   "cell_type": "code",
   "execution_count": 14,
   "metadata": {},
   "outputs": [
    {
     "data": {
      "text/plain": [
       "{'Airspeed Oxford',\n",
       " 'Avro Anson',\n",
       " 'Avro Lancaster',\n",
       " 'Breguet 14',\n",
       " 'Cessna 206',\n",
       " 'Consolidated B-24 Liberator',\n",
       " 'Douglas DC-3',\n",
       " 'Piper PA-23',\n",
       " 'Piper PA-32'}"
      ]
     },
     "execution_count": 14,
     "metadata": {},
     "output_type": "execute_result"
    }
   ],
   "source": [
    "comun = set(planes_p.AC_Type).intersection(set(df.AC_Type))\n",
    "comun"
   ]
  },
  {
   "cell_type": "code",
   "execution_count": 15,
   "metadata": {},
   "outputs": [],
   "source": [
    "df_2 = df.merge(planes_p, how='left', on='AC_Type')"
   ]
  },
  {
   "cell_type": "code",
   "execution_count": 16,
   "metadata": {},
   "outputs": [
    {
     "name": "stdout",
     "output_type": "stream",
     "text": [
      "<class 'pandas.core.frame.DataFrame'>\n",
      "Int64Index: 4967 entries, 0 to 4966\n",
      "Data columns (total 20 columns):\n",
      " #   Column                 Non-Null Count  Dtype         \n",
      "---  ------                 --------------  -----         \n",
      " 0   Date                   4967 non-null   datetime64[ns]\n",
      " 1   Time                   3457 non-null   object        \n",
      " 2   Location               4963 non-null   object        \n",
      " 3   Operator               4957 non-null   object        \n",
      " 4   Route                  4193 non-null   object        \n",
      " 5   AC_Type                4952 non-null   object        \n",
      " 6   Registration           4694 non-null   object        \n",
      " 7   cn/ln                  4299 non-null   object        \n",
      " 8   Aboard                 4949 non-null   float64       \n",
      " 9   Aboard_Passangers      4738 non-null   float64       \n",
      " 10  Aboard_Crew            4741 non-null   float64       \n",
      " 11  Fatalities             4959 non-null   float64       \n",
      " 12  Fatalities_Passangers  4725 non-null   float64       \n",
      " 13  Fatalities_Crew        4726 non-null   float64       \n",
      " 14  Ground                 4926 non-null   float64       \n",
      " 15  Summary                4903 non-null   object        \n",
      " 16  Civilian/Militar       367 non-null    object        \n",
      " 17  Role                   367 non-null    object        \n",
      " 18  Number_produced        367 non-null    object        \n",
      " 19  Country                367 non-null    object        \n",
      "dtypes: datetime64[ns](1), float64(7), object(12)\n",
      "memory usage: 814.9+ KB\n"
     ]
    }
   ],
   "source": [
    "df_2.info()"
   ]
  },
  {
   "cell_type": "code",
   "execution_count": 17,
   "metadata": {},
   "outputs": [],
   "source": [
    "df_3 = df_2[df_2['Number_produced'].notna()]"
   ]
  },
  {
   "cell_type": "code",
   "execution_count": 18,
   "metadata": {},
   "outputs": [
    {
     "data": {
      "text/html": [
       "<div>\n",
       "<style scoped>\n",
       "    .dataframe tbody tr th:only-of-type {\n",
       "        vertical-align: middle;\n",
       "    }\n",
       "\n",
       "    .dataframe tbody tr th {\n",
       "        vertical-align: top;\n",
       "    }\n",
       "\n",
       "    .dataframe thead th {\n",
       "        text-align: right;\n",
       "    }\n",
       "</style>\n",
       "<table border=\"1\" class=\"dataframe\">\n",
       "  <thead>\n",
       "    <tr style=\"text-align: right;\">\n",
       "      <th></th>\n",
       "      <th>Date</th>\n",
       "      <th>Time</th>\n",
       "      <th>Location</th>\n",
       "      <th>Operator</th>\n",
       "      <th>Route</th>\n",
       "      <th>AC_Type</th>\n",
       "      <th>Registration</th>\n",
       "      <th>cn/ln</th>\n",
       "      <th>Aboard</th>\n",
       "      <th>Aboard_Passangers</th>\n",
       "      <th>Aboard_Crew</th>\n",
       "      <th>Fatalities</th>\n",
       "      <th>Fatalities_Passangers</th>\n",
       "      <th>Fatalities_Crew</th>\n",
       "      <th>Ground</th>\n",
       "      <th>Summary</th>\n",
       "      <th>Civilian/Militar</th>\n",
       "      <th>Role</th>\n",
       "      <th>Number_produced</th>\n",
       "      <th>Country</th>\n",
       "    </tr>\n",
       "  </thead>\n",
       "  <tbody>\n",
       "    <tr>\n",
       "      <th>46</th>\n",
       "      <td>1920-10-05</td>\n",
       "      <td>NaN</td>\n",
       "      <td>Valencia, Spain</td>\n",
       "      <td>Latecoere Airlines</td>\n",
       "      <td>NaN</td>\n",
       "      <td>Breguet 14</td>\n",
       "      <td>F-ALTA</td>\n",
       "      <td>20</td>\n",
       "      <td>2.0</td>\n",
       "      <td>1.0</td>\n",
       "      <td>1.0</td>\n",
       "      <td>2.0</td>\n",
       "      <td>1.0</td>\n",
       "      <td>1.0</td>\n",
       "      <td>0.0</td>\n",
       "      <td>While on a mail flight the plane crashed while...</td>\n",
       "      <td>M</td>\n",
       "      <td>Reconnaissance</td>\n",
       "      <td>7,800</td>\n",
       "      <td>France</td>\n",
       "    </tr>\n",
       "    <tr>\n",
       "      <th>50</th>\n",
       "      <td>1920-12-24</td>\n",
       "      <td>NaN</td>\n",
       "      <td>Barcelona, Spain</td>\n",
       "      <td>Aeropostale</td>\n",
       "      <td>NaN</td>\n",
       "      <td>Breguet 14</td>\n",
       "      <td>F-ALBO</td>\n",
       "      <td>57</td>\n",
       "      <td>1.0</td>\n",
       "      <td>0.0</td>\n",
       "      <td>1.0</td>\n",
       "      <td>1.0</td>\n",
       "      <td>0.0</td>\n",
       "      <td>1.0</td>\n",
       "      <td>0.0</td>\n",
       "      <td>The aircraft stalled and crashed when an engin...</td>\n",
       "      <td>M</td>\n",
       "      <td>Reconnaissance</td>\n",
       "      <td>7,800</td>\n",
       "      <td>France</td>\n",
       "    </tr>\n",
       "    <tr>\n",
       "      <th>53</th>\n",
       "      <td>1921-02-15</td>\n",
       "      <td>NaN</td>\n",
       "      <td>Off Gibraltar</td>\n",
       "      <td>Aeropostale</td>\n",
       "      <td>NaN</td>\n",
       "      <td>Breguet 14</td>\n",
       "      <td>F-ALBA</td>\n",
       "      <td>NaN</td>\n",
       "      <td>2.0</td>\n",
       "      <td>0.0</td>\n",
       "      <td>2.0</td>\n",
       "      <td>2.0</td>\n",
       "      <td>0.0</td>\n",
       "      <td>2.0</td>\n",
       "      <td>0.0</td>\n",
       "      <td>The mail fligh encountered poor weather condit...</td>\n",
       "      <td>M</td>\n",
       "      <td>Reconnaissance</td>\n",
       "      <td>7,800</td>\n",
       "      <td>France</td>\n",
       "    </tr>\n",
       "    <tr>\n",
       "      <th>59</th>\n",
       "      <td>1921-08-14</td>\n",
       "      <td>NaN</td>\n",
       "      <td>Toulouse, France</td>\n",
       "      <td>Aeropostale</td>\n",
       "      <td>NaN</td>\n",
       "      <td>Breguet 14</td>\n",
       "      <td>F-ALBI</td>\n",
       "      <td>NaN</td>\n",
       "      <td>2.0</td>\n",
       "      <td>NaN</td>\n",
       "      <td>NaN</td>\n",
       "      <td>2.0</td>\n",
       "      <td>NaN</td>\n",
       "      <td>NaN</td>\n",
       "      <td>0.0</td>\n",
       "      <td>NaN</td>\n",
       "      <td>M</td>\n",
       "      <td>Reconnaissance</td>\n",
       "      <td>7,800</td>\n",
       "      <td>France</td>\n",
       "    </tr>\n",
       "    <tr>\n",
       "      <th>71</th>\n",
       "      <td>1922-07-26</td>\n",
       "      <td>NaN</td>\n",
       "      <td>Cadix, Spain</td>\n",
       "      <td>Grands Express Aeriens</td>\n",
       "      <td>NaN</td>\n",
       "      <td>Breguet 14</td>\n",
       "      <td>F-ALVE</td>\n",
       "      <td>117</td>\n",
       "      <td>3.0</td>\n",
       "      <td>2.0</td>\n",
       "      <td>1.0</td>\n",
       "      <td>3.0</td>\n",
       "      <td>2.0</td>\n",
       "      <td>1.0</td>\n",
       "      <td>0.0</td>\n",
       "      <td>While attempting to make an emergency landing ...</td>\n",
       "      <td>M</td>\n",
       "      <td>Reconnaissance</td>\n",
       "      <td>7,800</td>\n",
       "      <td>France</td>\n",
       "    </tr>\n",
       "  </tbody>\n",
       "</table>\n",
       "</div>"
      ],
      "text/plain": [
       "         Date Time          Location                Operator Route  \\\n",
       "46 1920-10-05  NaN   Valencia, Spain      Latecoere Airlines   NaN   \n",
       "50 1920-12-24  NaN  Barcelona, Spain             Aeropostale   NaN   \n",
       "53 1921-02-15  NaN     Off Gibraltar             Aeropostale   NaN   \n",
       "59 1921-08-14  NaN  Toulouse, France             Aeropostale   NaN   \n",
       "71 1922-07-26  NaN      Cadix, Spain  Grands Express Aeriens   NaN   \n",
       "\n",
       "       AC_Type Registration cn/ln  Aboard  Aboard_Passangers  Aboard_Crew  \\\n",
       "46  Breguet 14       F-ALTA    20     2.0                1.0          1.0   \n",
       "50  Breguet 14       F-ALBO    57     1.0                0.0          1.0   \n",
       "53  Breguet 14       F-ALBA   NaN     2.0                0.0          2.0   \n",
       "59  Breguet 14       F-ALBI   NaN     2.0                NaN          NaN   \n",
       "71  Breguet 14       F-ALVE   117     3.0                2.0          1.0   \n",
       "\n",
       "    Fatalities  Fatalities_Passangers  Fatalities_Crew  Ground  \\\n",
       "46         2.0                    1.0              1.0     0.0   \n",
       "50         1.0                    0.0              1.0     0.0   \n",
       "53         2.0                    0.0              2.0     0.0   \n",
       "59         2.0                    NaN              NaN     0.0   \n",
       "71         3.0                    2.0              1.0     0.0   \n",
       "\n",
       "                                              Summary Civilian/Militar  \\\n",
       "46  While on a mail flight the plane crashed while...                M   \n",
       "50  The aircraft stalled and crashed when an engin...                M   \n",
       "53  The mail fligh encountered poor weather condit...                M   \n",
       "59                                                NaN                M   \n",
       "71  While attempting to make an emergency landing ...                M   \n",
       "\n",
       "              Role Number_produced Country  \n",
       "46  Reconnaissance           7,800  France  \n",
       "50  Reconnaissance           7,800  France  \n",
       "53  Reconnaissance           7,800  France  \n",
       "59  Reconnaissance           7,800  France  \n",
       "71  Reconnaissance           7,800  France  "
      ]
     },
     "execution_count": 18,
     "metadata": {},
     "output_type": "execute_result"
    }
   ],
   "source": [
    "df_3.head()"
   ]
  },
  {
   "cell_type": "code",
   "execution_count": 19,
   "metadata": {},
   "outputs": [
    {
     "data": {
      "text/plain": [
       "367"
      ]
     },
     "execution_count": 19,
     "metadata": {},
     "output_type": "execute_result"
    }
   ],
   "source": [
    "len(df_3.AC_Type)"
   ]
  },
  {
   "cell_type": "code",
   "execution_count": 20,
   "metadata": {},
   "outputs": [],
   "source": [
    "acc_per_plain = df['AC_Type'].value_counts()"
   ]
  },
  {
   "cell_type": "code",
   "execution_count": 21,
   "metadata": {
    "scrolled": true
   },
   "outputs": [
    {
     "data": {
      "text/html": [
       "<div>\n",
       "<style scoped>\n",
       "    .dataframe tbody tr th:only-of-type {\n",
       "        vertical-align: middle;\n",
       "    }\n",
       "\n",
       "    .dataframe tbody tr th {\n",
       "        vertical-align: top;\n",
       "    }\n",
       "\n",
       "    .dataframe thead th {\n",
       "        text-align: right;\n",
       "    }\n",
       "</style>\n",
       "<table border=\"1\" class=\"dataframe\">\n",
       "  <thead>\n",
       "    <tr style=\"text-align: right;\">\n",
       "      <th></th>\n",
       "      <th>AC_Type</th>\n",
       "    </tr>\n",
       "  </thead>\n",
       "  <tbody>\n",
       "    <tr>\n",
       "      <th>Douglas DC-3</th>\n",
       "      <td>333</td>\n",
       "    </tr>\n",
       "    <tr>\n",
       "      <th>de Havilland Canada DHC-6 Twin Otter 300</th>\n",
       "      <td>81</td>\n",
       "    </tr>\n",
       "    <tr>\n",
       "      <th>Douglas C-47A</th>\n",
       "      <td>70</td>\n",
       "    </tr>\n",
       "    <tr>\n",
       "      <th>Douglas C-47</th>\n",
       "      <td>64</td>\n",
       "    </tr>\n",
       "    <tr>\n",
       "      <th>Douglas DC-4</th>\n",
       "      <td>38</td>\n",
       "    </tr>\n",
       "  </tbody>\n",
       "</table>\n",
       "</div>"
      ],
      "text/plain": [
       "                                          AC_Type\n",
       "Douglas DC-3                                  333\n",
       "de Havilland Canada DHC-6 Twin Otter 300       81\n",
       "Douglas C-47A                                  70\n",
       "Douglas C-47                                   64\n",
       "Douglas DC-4                                   38"
      ]
     },
     "execution_count": 21,
     "metadata": {},
     "output_type": "execute_result"
    }
   ],
   "source": [
    "acc_per_plain = pd.DataFrame(acc_per_plain)\n",
    "acc_per_plain.head()"
   ]
  },
  {
   "cell_type": "code",
   "execution_count": 22,
   "metadata": {
    "scrolled": true
   },
   "outputs": [
    {
     "data": {
      "text/html": [
       "<div>\n",
       "<style scoped>\n",
       "    .dataframe tbody tr th:only-of-type {\n",
       "        vertical-align: middle;\n",
       "    }\n",
       "\n",
       "    .dataframe tbody tr th {\n",
       "        vertical-align: top;\n",
       "    }\n",
       "\n",
       "    .dataframe thead th {\n",
       "        text-align: right;\n",
       "    }\n",
       "</style>\n",
       "<table border=\"1\" class=\"dataframe\">\n",
       "  <thead>\n",
       "    <tr style=\"text-align: right;\">\n",
       "      <th></th>\n",
       "      <th>AC_Type</th>\n",
       "      <th>N_of_accs</th>\n",
       "    </tr>\n",
       "  </thead>\n",
       "  <tbody>\n",
       "    <tr>\n",
       "      <th>0</th>\n",
       "      <td>Douglas DC-3</td>\n",
       "      <td>333</td>\n",
       "    </tr>\n",
       "    <tr>\n",
       "      <th>1</th>\n",
       "      <td>de Havilland Canada DHC-6 Twin Otter 300</td>\n",
       "      <td>81</td>\n",
       "    </tr>\n",
       "    <tr>\n",
       "      <th>2</th>\n",
       "      <td>Douglas C-47A</td>\n",
       "      <td>70</td>\n",
       "    </tr>\n",
       "    <tr>\n",
       "      <th>3</th>\n",
       "      <td>Douglas C-47</td>\n",
       "      <td>64</td>\n",
       "    </tr>\n",
       "    <tr>\n",
       "      <th>4</th>\n",
       "      <td>Douglas DC-4</td>\n",
       "      <td>38</td>\n",
       "    </tr>\n",
       "    <tr>\n",
       "      <th>...</th>\n",
       "      <td>...</td>\n",
       "      <td>...</td>\n",
       "    </tr>\n",
       "    <tr>\n",
       "      <th>2442</th>\n",
       "      <td>Waco, model YLC</td>\n",
       "      <td>1</td>\n",
       "    </tr>\n",
       "    <tr>\n",
       "      <th>2443</th>\n",
       "      <td>British Aerospace Jetstream 4101</td>\n",
       "      <td>1</td>\n",
       "    </tr>\n",
       "    <tr>\n",
       "      <th>2444</th>\n",
       "      <td>De Havilland DH-80</td>\n",
       "      <td>1</td>\n",
       "    </tr>\n",
       "    <tr>\n",
       "      <th>2445</th>\n",
       "      <td>Let 410UVP-E20</td>\n",
       "      <td>1</td>\n",
       "    </tr>\n",
       "    <tr>\n",
       "      <th>2446</th>\n",
       "      <td>Savoia-Marchetti SM-95</td>\n",
       "      <td>1</td>\n",
       "    </tr>\n",
       "  </tbody>\n",
       "</table>\n",
       "<p>2447 rows × 2 columns</p>\n",
       "</div>"
      ],
      "text/plain": [
       "                                       AC_Type  N_of_accs\n",
       "0                                 Douglas DC-3        333\n",
       "1     de Havilland Canada DHC-6 Twin Otter 300         81\n",
       "2                                Douglas C-47A         70\n",
       "3                                 Douglas C-47         64\n",
       "4                                 Douglas DC-4         38\n",
       "...                                        ...        ...\n",
       "2442                           Waco, model YLC          1\n",
       "2443          British Aerospace Jetstream 4101          1\n",
       "2444                        De Havilland DH-80          1\n",
       "2445                            Let 410UVP-E20          1\n",
       "2446                    Savoia-Marchetti SM-95          1\n",
       "\n",
       "[2447 rows x 2 columns]"
      ]
     },
     "execution_count": 22,
     "metadata": {},
     "output_type": "execute_result"
    }
   ],
   "source": [
    "acc_per_plain.reset_index(level=0, inplace=True)\n",
    "acc_per_plain = acc_per_plain.rename(columns = {'index': 'AC_Type', 'AC_Type': 'N_of_accs'}, inplace = False)\n",
    "acc_per_plain"
   ]
  },
  {
   "cell_type": "code",
   "execution_count": 23,
   "metadata": {},
   "outputs": [],
   "source": [
    "tabla_def = df_3.merge(acc_per_plain, how='left', on='AC_Type')\n",
    "tabla_def = tabla_def.drop_duplicates(subset=\"AC_Type\")\n"
   ]
  },
  {
   "cell_type": "code",
   "execution_count": 24,
   "metadata": {},
   "outputs": [
    {
     "data": {
      "text/html": [
       "<div>\n",
       "<style scoped>\n",
       "    .dataframe tbody tr th:only-of-type {\n",
       "        vertical-align: middle;\n",
       "    }\n",
       "\n",
       "    .dataframe tbody tr th {\n",
       "        vertical-align: top;\n",
       "    }\n",
       "\n",
       "    .dataframe thead th {\n",
       "        text-align: right;\n",
       "    }\n",
       "</style>\n",
       "<table border=\"1\" class=\"dataframe\">\n",
       "  <thead>\n",
       "    <tr style=\"text-align: right;\">\n",
       "      <th></th>\n",
       "      <th>Date</th>\n",
       "      <th>Time</th>\n",
       "      <th>Location</th>\n",
       "      <th>Operator</th>\n",
       "      <th>Route</th>\n",
       "      <th>AC_Type</th>\n",
       "      <th>Registration</th>\n",
       "      <th>cn/ln</th>\n",
       "      <th>Aboard</th>\n",
       "      <th>Aboard_Passangers</th>\n",
       "      <th>...</th>\n",
       "      <th>Fatalities</th>\n",
       "      <th>Fatalities_Passangers</th>\n",
       "      <th>Fatalities_Crew</th>\n",
       "      <th>Ground</th>\n",
       "      <th>Summary</th>\n",
       "      <th>Civilian/Militar</th>\n",
       "      <th>Role</th>\n",
       "      <th>Number_produced</th>\n",
       "      <th>Country</th>\n",
       "      <th>N_of_accs</th>\n",
       "    </tr>\n",
       "  </thead>\n",
       "  <tbody>\n",
       "    <tr>\n",
       "      <th>0</th>\n",
       "      <td>1920-10-05</td>\n",
       "      <td>NaN</td>\n",
       "      <td>Valencia, Spain</td>\n",
       "      <td>Latecoere Airlines</td>\n",
       "      <td>NaN</td>\n",
       "      <td>Breguet 14</td>\n",
       "      <td>F-ALTA</td>\n",
       "      <td>20</td>\n",
       "      <td>2.0</td>\n",
       "      <td>1.0</td>\n",
       "      <td>...</td>\n",
       "      <td>2.0</td>\n",
       "      <td>1.0</td>\n",
       "      <td>1.0</td>\n",
       "      <td>0.0</td>\n",
       "      <td>While on a mail flight the plane crashed while...</td>\n",
       "      <td>M</td>\n",
       "      <td>Reconnaissance</td>\n",
       "      <td>7,800</td>\n",
       "      <td>France</td>\n",
       "      <td>22</td>\n",
       "    </tr>\n",
       "    <tr>\n",
       "      <th>22</th>\n",
       "      <td>1937-10-06</td>\n",
       "      <td>12:25</td>\n",
       "      <td>Palembang, Netherlands Indies</td>\n",
       "      <td>KLM Royal Dutch Airlines</td>\n",
       "      <td>Palembang - Singapore</td>\n",
       "      <td>Douglas DC-3</td>\n",
       "      <td>PH-ALS</td>\n",
       "      <td>1940</td>\n",
       "      <td>11.0</td>\n",
       "      <td>7.0</td>\n",
       "      <td>...</td>\n",
       "      <td>4.0</td>\n",
       "      <td>1.0</td>\n",
       "      <td>3.0</td>\n",
       "      <td>0.0</td>\n",
       "      <td>While in initial climb, the left engine failed...</td>\n",
       "      <td>C</td>\n",
       "      <td>Airliner / transport</td>\n",
       "      <td>16,079</td>\n",
       "      <td>United States</td>\n",
       "      <td>333</td>\n",
       "    </tr>\n",
       "    <tr>\n",
       "      <th>26</th>\n",
       "      <td>1939-11-20</td>\n",
       "      <td>NaN</td>\n",
       "      <td>Gosport, England</td>\n",
       "      <td>British Airways</td>\n",
       "      <td>Training</td>\n",
       "      <td>Airspeed Oxford</td>\n",
       "      <td>G-AFFM</td>\n",
       "      <td>75</td>\n",
       "      <td>2.0</td>\n",
       "      <td>0.0</td>\n",
       "      <td>...</td>\n",
       "      <td>2.0</td>\n",
       "      <td>0.0</td>\n",
       "      <td>2.0</td>\n",
       "      <td>NaN</td>\n",
       "      <td>Collided with the mooring of a ballon.went out...</td>\n",
       "      <td>M</td>\n",
       "      <td>Trainer</td>\n",
       "      <td>8,751[5]</td>\n",
       "      <td>United Kingdom</td>\n",
       "      <td>1</td>\n",
       "    </tr>\n",
       "    <tr>\n",
       "      <th>37</th>\n",
       "      <td>1942-03-03</td>\n",
       "      <td>NaN</td>\n",
       "      <td>Off Broome, Australia</td>\n",
       "      <td>Military - U.S. Army Air Force</td>\n",
       "      <td>Broome - Kupang</td>\n",
       "      <td>Consolidated B-24 Liberator</td>\n",
       "      <td>40-2370</td>\n",
       "      <td>6</td>\n",
       "      <td>21.0</td>\n",
       "      <td>19.0</td>\n",
       "      <td>...</td>\n",
       "      <td>20.0</td>\n",
       "      <td>18.0</td>\n",
       "      <td>2.0</td>\n",
       "      <td>0.0</td>\n",
       "      <td>Shot down shortly after taking off by a Japane...</td>\n",
       "      <td>M</td>\n",
       "      <td>Heavy bomber</td>\n",
       "      <td>18,482[7]</td>\n",
       "      <td>United States</td>\n",
       "      <td>3</td>\n",
       "    </tr>\n",
       "    <tr>\n",
       "      <th>53</th>\n",
       "      <td>1945-05-09</td>\n",
       "      <td>01:30</td>\n",
       "      <td>Roye, France</td>\n",
       "      <td>Military -Royal Air Force</td>\n",
       "      <td>England - Brussels</td>\n",
       "      <td>Avro Lancaster</td>\n",
       "      <td>RF230</td>\n",
       "      <td>NaN</td>\n",
       "      <td>31.0</td>\n",
       "      <td>25.0</td>\n",
       "      <td>...</td>\n",
       "      <td>31.0</td>\n",
       "      <td>25.0</td>\n",
       "      <td>6.0</td>\n",
       "      <td>0.0</td>\n",
       "      <td>The aircraft went in to a spin and crashed in ...</td>\n",
       "      <td>M</td>\n",
       "      <td>Heavy bomber</td>\n",
       "      <td>7,377</td>\n",
       "      <td>United Kingdom</td>\n",
       "      <td>2</td>\n",
       "    </tr>\n",
       "  </tbody>\n",
       "</table>\n",
       "<p>5 rows × 21 columns</p>\n",
       "</div>"
      ],
      "text/plain": [
       "         Date   Time                       Location  \\\n",
       "0  1920-10-05    NaN                Valencia, Spain   \n",
       "22 1937-10-06  12:25  Palembang, Netherlands Indies   \n",
       "26 1939-11-20    NaN               Gosport, England   \n",
       "37 1942-03-03    NaN          Off Broome, Australia   \n",
       "53 1945-05-09  01:30                   Roye, France   \n",
       "\n",
       "                          Operator                  Route  \\\n",
       "0               Latecoere Airlines                    NaN   \n",
       "22        KLM Royal Dutch Airlines  Palembang - Singapore   \n",
       "26                 British Airways               Training   \n",
       "37  Military - U.S. Army Air Force        Broome - Kupang   \n",
       "53       Military -Royal Air Force     England - Brussels   \n",
       "\n",
       "                        AC_Type Registration cn/ln  Aboard  Aboard_Passangers  \\\n",
       "0                    Breguet 14       F-ALTA    20     2.0                1.0   \n",
       "22                 Douglas DC-3       PH-ALS  1940    11.0                7.0   \n",
       "26              Airspeed Oxford       G-AFFM    75     2.0                0.0   \n",
       "37  Consolidated B-24 Liberator      40-2370     6    21.0               19.0   \n",
       "53               Avro Lancaster        RF230   NaN    31.0               25.0   \n",
       "\n",
       "    ...  Fatalities  Fatalities_Passangers  Fatalities_Crew  Ground  \\\n",
       "0   ...         2.0                    1.0              1.0     0.0   \n",
       "22  ...         4.0                    1.0              3.0     0.0   \n",
       "26  ...         2.0                    0.0              2.0     NaN   \n",
       "37  ...        20.0                   18.0              2.0     0.0   \n",
       "53  ...        31.0                   25.0              6.0     0.0   \n",
       "\n",
       "                                              Summary Civilian/Militar  \\\n",
       "0   While on a mail flight the plane crashed while...                M   \n",
       "22  While in initial climb, the left engine failed...                C   \n",
       "26  Collided with the mooring of a ballon.went out...                M   \n",
       "37  Shot down shortly after taking off by a Japane...                M   \n",
       "53  The aircraft went in to a spin and crashed in ...                M   \n",
       "\n",
       "                    Role Number_produced         Country N_of_accs  \n",
       "0         Reconnaissance           7,800          France        22  \n",
       "22  Airliner / transport          16,079   United States       333  \n",
       "26               Trainer        8,751[5]  United Kingdom         1  \n",
       "37          Heavy bomber       18,482[7]   United States         3  \n",
       "53          Heavy bomber           7,377  United Kingdom         2  \n",
       "\n",
       "[5 rows x 21 columns]"
      ]
     },
     "execution_count": 24,
     "metadata": {},
     "output_type": "execute_result"
    }
   ],
   "source": [
    "tabla_def.head()"
   ]
  },
  {
   "cell_type": "code",
   "execution_count": 25,
   "metadata": {},
   "outputs": [
    {
     "data": {
      "text/html": [
       "<div>\n",
       "<style scoped>\n",
       "    .dataframe tbody tr th:only-of-type {\n",
       "        vertical-align: middle;\n",
       "    }\n",
       "\n",
       "    .dataframe tbody tr th {\n",
       "        vertical-align: top;\n",
       "    }\n",
       "\n",
       "    .dataframe thead th {\n",
       "        text-align: right;\n",
       "    }\n",
       "</style>\n",
       "<table border=\"1\" class=\"dataframe\">\n",
       "  <thead>\n",
       "    <tr style=\"text-align: right;\">\n",
       "      <th></th>\n",
       "      <th>Location</th>\n",
       "      <th>AC_Type</th>\n",
       "      <th>Civilian/Militar</th>\n",
       "      <th>Number_produced</th>\n",
       "      <th>Country</th>\n",
       "      <th>N_of_accs</th>\n",
       "    </tr>\n",
       "  </thead>\n",
       "  <tbody>\n",
       "    <tr>\n",
       "      <th>0</th>\n",
       "      <td>Valencia, Spain</td>\n",
       "      <td>Breguet 14</td>\n",
       "      <td>M</td>\n",
       "      <td>7,800</td>\n",
       "      <td>France</td>\n",
       "      <td>22</td>\n",
       "    </tr>\n",
       "    <tr>\n",
       "      <th>22</th>\n",
       "      <td>Palembang, Netherlands Indies</td>\n",
       "      <td>Douglas DC-3</td>\n",
       "      <td>C</td>\n",
       "      <td>16,079</td>\n",
       "      <td>United States</td>\n",
       "      <td>333</td>\n",
       "    </tr>\n",
       "    <tr>\n",
       "      <th>26</th>\n",
       "      <td>Gosport, England</td>\n",
       "      <td>Airspeed Oxford</td>\n",
       "      <td>M</td>\n",
       "      <td>8,751[5]</td>\n",
       "      <td>United Kingdom</td>\n",
       "      <td>1</td>\n",
       "    </tr>\n",
       "    <tr>\n",
       "      <th>37</th>\n",
       "      <td>Off Broome, Australia</td>\n",
       "      <td>Consolidated B-24 Liberator</td>\n",
       "      <td>M</td>\n",
       "      <td>18,482[7]</td>\n",
       "      <td>United States</td>\n",
       "      <td>3</td>\n",
       "    </tr>\n",
       "    <tr>\n",
       "      <th>53</th>\n",
       "      <td>Roye, France</td>\n",
       "      <td>Avro Lancaster</td>\n",
       "      <td>M</td>\n",
       "      <td>7,377</td>\n",
       "      <td>United Kingdom</td>\n",
       "      <td>2</td>\n",
       "    </tr>\n",
       "  </tbody>\n",
       "</table>\n",
       "</div>"
      ],
      "text/plain": [
       "                         Location                      AC_Type  \\\n",
       "0                 Valencia, Spain                   Breguet 14   \n",
       "22  Palembang, Netherlands Indies                 Douglas DC-3   \n",
       "26               Gosport, England              Airspeed Oxford   \n",
       "37          Off Broome, Australia  Consolidated B-24 Liberator   \n",
       "53                   Roye, France               Avro Lancaster   \n",
       "\n",
       "   Civilian/Militar Number_produced         Country  N_of_accs  \n",
       "0                 M           7,800          France         22  \n",
       "22                C          16,079   United States        333  \n",
       "26                M        8,751[5]  United Kingdom          1  \n",
       "37                M       18,482[7]   United States          3  \n",
       "53                M           7,377  United Kingdom          2  "
      ]
     },
     "execution_count": 25,
     "metadata": {},
     "output_type": "execute_result"
    }
   ],
   "source": [
    "tabla_def.drop(labels = ['Date', 'Time', 'Operator', 'Route', 'Registration', 'cn/ln', 'Aboard', 'Aboard_Passangers', 'Aboard_Crew','Fatalities', 'Fatalities_Passangers', 'Fatalities_Crew', 'Ground', 'Summary', 'Role'], inplace=True, axis=1)\n",
    "tabla_def.head()"
   ]
  },
  {
   "cell_type": "code",
   "execution_count": 26,
   "metadata": {},
   "outputs": [
    {
     "data": {
      "text/plain": [
       "0                                  7,800\n",
       "22                                16,079\n",
       "26                              8,751[5]\n",
       "37                             18,482[7]\n",
       "53                                 7,377\n",
       "59                            11,020[21]\n",
       "290                            6,976[42]\n",
       "329                               7,842+\n",
       "365    8,509+ or 7,783+[citation needed]\n",
       "Name: Number_produced, dtype: object"
      ]
     },
     "execution_count": 26,
     "metadata": {},
     "output_type": "execute_result"
    }
   ],
   "source": [
    "tabla_def.Number_produced"
   ]
  },
  {
   "cell_type": "code",
   "execution_count": 27,
   "metadata": {},
   "outputs": [],
   "source": [
    "def borrar (donde, ha_reemplazar, reemplazo):\n",
    "    donde = donde.str.replace(r\"ha_reemplazar\",\"reemplazo\", regex = True)\n"
   ]
  },
  {
   "cell_type": "code",
   "execution_count": 28,
   "metadata": {},
   "outputs": [],
   "source": [
    "borrar(tabla_def.Number_produced, \"[+]\" ,\"\")\n",
    "borrar(tabla_def.Number_produced, \"\\D\\d*\\D$\" ,\"\")\n",
    "borrar(tabla_def.Number_produced, \".{24}$\" ,\"\")\n",
    "borrar(tabla_def.Number_produced, \",\" ,\"\")"
   ]
  },
  {
   "cell_type": "code",
   "execution_count": 31,
   "metadata": {},
   "outputs": [],
   "source": [
    "tabla_def.Number_produced = tabla_def.Number_produced.str.replace(r\"[+]\",\"\", regex = True)\n",
    "tabla_def.Number_produced = tabla_def.Number_produced.str.replace(r\"\\D\\d*\\D$\",\"\", regex = True)\n",
    "tabla_def.Number_produced = tabla_def.Number_produced.str.replace(r\".{24}$\",\"\", regex = True)\n",
    "tabla_def.Number_produced = tabla_def.Number_produced.str.replace(r\",\",\"\", regex = True)"
   ]
  },
  {
   "cell_type": "code",
   "execution_count": 39,
   "metadata": {},
   "outputs": [
    {
     "data": {
      "text/plain": [
       "0       7800\n",
       "22     16079\n",
       "26      8751\n",
       "37     18482\n",
       "53      7377\n",
       "59     11020\n",
       "290     6976\n",
       "329     7842\n",
       "365     8509\n",
       "Name: Number_produced, dtype: object"
      ]
     },
     "execution_count": 39,
     "metadata": {},
     "output_type": "execute_result"
    }
   ],
   "source": [
    "tabla_def.Number_produced"
   ]
  },
  {
   "cell_type": "code",
   "execution_count": 40,
   "metadata": {},
   "outputs": [],
   "source": [
    "def cambiar_tipo_de_dato (tabla, columna, tipo_nuevo):\n",
    "    tabla[\"columna\"] = tabla[\"columna\"].astype(tipo_nuevo)"
   ]
  },
  {
   "cell_type": "code",
   "execution_count": 42,
   "metadata": {},
   "outputs": [
    {
     "ename": "NameError",
     "evalue": "name 'Number_produced' is not defined",
     "output_type": "error",
     "traceback": [
      "\u001b[0;31m---------------------------------------------------------------------------\u001b[0m",
      "\u001b[0;31mNameError\u001b[0m                                 Traceback (most recent call last)",
      "\u001b[0;32m<ipython-input-42-33f67c373199>\u001b[0m in \u001b[0;36m<module>\u001b[0;34m\u001b[0m\n\u001b[0;32m----> 1\u001b[0;31m \u001b[0mcambiar_tipo_de_dato\u001b[0m\u001b[0;34m(\u001b[0m\u001b[0mtabla_def\u001b[0m\u001b[0;34m,\u001b[0m \u001b[0mNumber_produced\u001b[0m\u001b[0;34m,\u001b[0m \u001b[0mint\u001b[0m\u001b[0;34m)\u001b[0m\u001b[0;34m\u001b[0m\u001b[0;34m\u001b[0m\u001b[0m\n\u001b[0m",
      "\u001b[0;31mNameError\u001b[0m: name 'Number_produced' is not defined"
     ]
    }
   ],
   "source": [
    "cambiar_tipo_de_dato(tabla_def, Number_produced, int)"
   ]
  },
  {
   "cell_type": "code",
   "execution_count": 43,
   "metadata": {
    "scrolled": true
   },
   "outputs": [],
   "source": [
    "tabla_def.Number_produced = tabla_def.Number_produced.astype(int)\n",
    "tabla_def[\"N_of_accs\"] = tabla_def[\"N_of_accs\"].astype(int)"
   ]
  },
  {
   "cell_type": "code",
   "execution_count": 44,
   "metadata": {},
   "outputs": [],
   "source": [
    "Percentage = tabla_def.apply(lambda row: row.N_of_accs / row.Number_produced, axis = 1)"
   ]
  },
  {
   "cell_type": "code",
   "execution_count": 45,
   "metadata": {},
   "outputs": [],
   "source": [
    "tabla_def[\"percentage\"] = Percentage"
   ]
  },
  {
   "cell_type": "code",
   "execution_count": 46,
   "metadata": {},
   "outputs": [
    {
     "data": {
      "text/html": [
       "<div>\n",
       "<style scoped>\n",
       "    .dataframe tbody tr th:only-of-type {\n",
       "        vertical-align: middle;\n",
       "    }\n",
       "\n",
       "    .dataframe tbody tr th {\n",
       "        vertical-align: top;\n",
       "    }\n",
       "\n",
       "    .dataframe thead th {\n",
       "        text-align: right;\n",
       "    }\n",
       "</style>\n",
       "<table border=\"1\" class=\"dataframe\">\n",
       "  <thead>\n",
       "    <tr style=\"text-align: right;\">\n",
       "      <th></th>\n",
       "      <th>Location</th>\n",
       "      <th>AC_Type</th>\n",
       "      <th>Civilian/Militar</th>\n",
       "      <th>Number_produced</th>\n",
       "      <th>Country</th>\n",
       "      <th>N_of_accs</th>\n",
       "      <th>percentage</th>\n",
       "    </tr>\n",
       "  </thead>\n",
       "  <tbody>\n",
       "    <tr>\n",
       "      <th>0</th>\n",
       "      <td>Valencia, Spain</td>\n",
       "      <td>Breguet 14</td>\n",
       "      <td>M</td>\n",
       "      <td>7800</td>\n",
       "      <td>France</td>\n",
       "      <td>22</td>\n",
       "      <td>0.002821</td>\n",
       "    </tr>\n",
       "    <tr>\n",
       "      <th>22</th>\n",
       "      <td>Palembang, Netherlands Indies</td>\n",
       "      <td>Douglas DC-3</td>\n",
       "      <td>C</td>\n",
       "      <td>16079</td>\n",
       "      <td>United States</td>\n",
       "      <td>333</td>\n",
       "      <td>0.020710</td>\n",
       "    </tr>\n",
       "    <tr>\n",
       "      <th>26</th>\n",
       "      <td>Gosport, England</td>\n",
       "      <td>Airspeed Oxford</td>\n",
       "      <td>M</td>\n",
       "      <td>8751</td>\n",
       "      <td>United Kingdom</td>\n",
       "      <td>1</td>\n",
       "      <td>0.000114</td>\n",
       "    </tr>\n",
       "    <tr>\n",
       "      <th>37</th>\n",
       "      <td>Off Broome, Australia</td>\n",
       "      <td>Consolidated B-24 Liberator</td>\n",
       "      <td>M</td>\n",
       "      <td>18482</td>\n",
       "      <td>United States</td>\n",
       "      <td>3</td>\n",
       "      <td>0.000162</td>\n",
       "    </tr>\n",
       "    <tr>\n",
       "      <th>53</th>\n",
       "      <td>Roye, France</td>\n",
       "      <td>Avro Lancaster</td>\n",
       "      <td>M</td>\n",
       "      <td>7377</td>\n",
       "      <td>United Kingdom</td>\n",
       "      <td>2</td>\n",
       "      <td>0.000271</td>\n",
       "    </tr>\n",
       "  </tbody>\n",
       "</table>\n",
       "</div>"
      ],
      "text/plain": [
       "                         Location                      AC_Type  \\\n",
       "0                 Valencia, Spain                   Breguet 14   \n",
       "22  Palembang, Netherlands Indies                 Douglas DC-3   \n",
       "26               Gosport, England              Airspeed Oxford   \n",
       "37          Off Broome, Australia  Consolidated B-24 Liberator   \n",
       "53                   Roye, France               Avro Lancaster   \n",
       "\n",
       "   Civilian/Militar  Number_produced         Country  N_of_accs  percentage  \n",
       "0                 M             7800          France         22    0.002821  \n",
       "22                C            16079   United States        333    0.020710  \n",
       "26                M             8751  United Kingdom          1    0.000114  \n",
       "37                M            18482   United States          3    0.000162  \n",
       "53                M             7377  United Kingdom          2    0.000271  "
      ]
     },
     "execution_count": 46,
     "metadata": {},
     "output_type": "execute_result"
    }
   ],
   "source": [
    "tabla_def.head()"
   ]
  },
  {
   "cell_type": "code",
   "execution_count": 47,
   "metadata": {},
   "outputs": [
    {
     "data": {
      "text/plain": [
       "<AxesSubplot:label='3b4b4f5f-fdac-4f4c-ac8d-517b6f3504fb'>"
      ]
     },
     "execution_count": 47,
     "metadata": {},
     "output_type": "execute_result"
    },
    {
     "data": {
      "image/png": "[encoded data removed]",
      "text/plain": [
       "<Figure size 432x288 with 3 Axes>"
      ]
     },
     "metadata": {
      "needs_background": "light"
     },
     "output_type": "display_data"
    },
    {
     "data": {
      "text/plain": [
       "<Figure size 864x576 with 0 Axes>"
      ]
     },
     "metadata": {},
     "output_type": "display_data"
    }
   ],
   "source": [
    "fig, ax = plt.subplots()\n",
    "fig = plt.figure(figsize=(12, 8))\n",
    "ax.set_title('Plane crashes vs Deaths', fontsize=14)\n",
    "ax3 = ax.twinx()\n",
    "rspine = ax3.spines['right']\n",
    "rspine.set_position(('axes', 1.15))\n",
    "fig.subplots_adjust(right=0.7)\n",
    "\n",
    "df_3.Date.groupby(df_3.Date.dt.year).agg('count').plot(ax=ax, style='b-')\n",
    "df_3['Fatalities'].groupby(df_3.Date.dt.year).agg('sum').plot(ax=ax, style='r-', secondary_y=True)"
   ]
  },
  {
   "cell_type": "code",
   "execution_count": 62,
   "metadata": {
    "scrolled": true
   },
   "outputs": [
    {
     "data": {
      "image/png": "[encoded data removed]",
      "text/plain": [
       "<Figure size 432x288 with 1 Axes>"
      ]
     },
     "metadata": {
      "needs_background": "light"
     },
     "output_type": "display_data"
    }
   ],
   "source": [
    "ax = sns.barplot(x = tabla_def.AC_Type, y = tabla_def.percentage)\n",
    "\n",
    "ax.set_xticklabels(ax.get_xticklabels(), rotation=40, ha=\"right\")\n",
    "plt.xlabel(\"Plain Model\") #y label\n",
    "plt.tight_layout()\n",
    "plt.show()"
   ]
  },
  {
   "cell_type": "code",
   "execution_count": 63,
   "metadata": {},
   "outputs": [
    {
     "data": {
      "text/plain": [
       "Douglas DC-3                                333\n",
       "de Havilland Canada DHC-6 Twin Otter 300     81\n",
       "Douglas C-47A                                70\n",
       "Douglas C-47                                 64\n",
       "Douglas DC-4                                 38\n",
       "Yakovlev YAK-40                              35\n",
       "Antonov AN-26                                34\n",
       "Junkers JU-52/3m                             31\n",
       "De Havilland DH-4                            27\n",
       "Douglas DC-6B                                27\n",
       "Douglas C-47B                                27\n",
       "Breguet 14                                   22\n",
       "Douglas DC-6                                 20\n",
       "Antonov AN-24                                19\n",
       "Curtiss C-46A                                19\n",
       "Antonov AN-12                                18\n",
       "McDonnell Douglas DC-9-32                    18\n",
       "Curtiss C-46                                 18\n",
       "Douglas C-47-DL                              18\n",
       "Fokker F-27 Friendship 600                   17\n",
       "Junkers F-13                                 17\n",
       "Fokker F-27 Friendship 200                   16\n",
       "Tupolev TU-134A                              16\n",
       "Embraer 110P1 Bandeirante                    16\n",
       "Douglas DC-3C                                16\n",
       "Name: AC_Type, dtype: int64"
      ]
     },
     "execution_count": 63,
     "metadata": {},
     "output_type": "execute_result"
    },
    {
     "data": {
      "image/png": "[encoded data removed]",
      "text/plain": [
       "<Figure size 864x576 with 1 Axes>"
      ]
     },
     "metadata": {
      "needs_background": "light"
     },
     "output_type": "display_data"
    }
   ],
   "source": [
    "acc_per_ac_type = df['AC_Type'].value_counts().head(25)\n",
    "acc_per_ac_type.plot(kind='barh', figsize=(12,8), title='Nbr of accidenteds per aircraft type (top 25)', grid=True)\n",
    "acc_per_ac_type.head(25)"
   ]
  },
  {
   "cell_type": "code",
   "execution_count": 66,
   "metadata": {},
   "outputs": [
    {
     "data": {
      "text/plain": [
       "<AxesSubplot:title={'center':'Nbr of aviation fatalities per year since 1908'}, xlabel='Date'>"
      ]
     },
     "execution_count": 66,
     "metadata": {},
     "output_type": "execute_result"
    },
    {
     "data": {
      "image/png": "[encoded data removed]",
      "text/plain": [
       "<Figure size 864x576 with 1 Axes>"
      ]
     },
     "metadata": {
      "needs_background": "light"
     },
     "output_type": "display_data"
    }
   ],
   "source": [
    "df['Fatalities'].groupby(df.Date.dt.year).agg('sum').plot(figsize=(12,8), title='Nbr of aviation fatalities per year since 1908', grid=True)"
   ]
  },
  {
   "cell_type": "code",
   "execution_count": null,
   "metadata": {},
   "outputs": [],
   "source": []
  }
 ],
 "metadata": {
  "kernelspec": {
   "display_name": "Python 3",
   "language": "python",
   "name": "python3"
  },
  "language_info": {
   "codemirror_mode": {
    "name": "ipython",
    "version": 3
   },
   "file_extension": ".py",
   "mimetype": "text/x-python",
   "name": "python",
   "nbconvert_exporter": "python",
   "pygments_lexer": "ipython3",
   "version": "3.9.1"
  }
 },
 "nbformat": 4,
 "nbformat_minor": 4
}
